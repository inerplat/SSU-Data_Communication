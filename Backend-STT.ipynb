{
 "cells": [
  {
   "cell_type": "markdown",
   "metadata": {},
   "source": [
    "# 문장 학습(gscv를 이용한 svm)"
   ]
  },
  {
   "cell_type": "code",
   "execution_count": 1,
   "metadata": {},
   "outputs": [],
   "source": [
    "from konlpy.tag import *\n",
    "kkma=Kkma()\n",
    "tw=Twitter()"
   ]
  },
  {
   "cell_type": "markdown",
   "metadata": {},
   "source": [
    "```\n",
    "1. 좌회전\n",
    "2. 우회전\n",
    "3. 좌걷기\n",
    "4. 우걷기\n",
    "5. 앞걷기\n",
    "6. 뒤걷기\n",
    "7. 공격\n",
    "```"
   ]
  },
  {
   "cell_type": "code",
   "execution_count": 2,
   "metadata": {},
   "outputs": [],
   "source": [
    "Command=[\"왼쪽으로 돌아라\",\n",
    "         \"오른쪽으로 걸어가\", \n",
    "         \"앞으로 전진\",\n",
    "         \"좌로 회전\", \n",
    "         \"우로 회전\",\n",
    "         \"뒤로 가\",\n",
    "        \"앞으로 가\",\n",
    "        \"왼쪽으로 걸어\",\n",
    "        \"왼쪽으로 가\",\n",
    "        \"오른쪽으로 걸어\",\n",
    "        \"오른쪽으로 가\",\n",
    "        \"뒤로 걸어\",\n",
    "        \"공격해\",\n",
    "        \"펀치\",\n",
    "        \"주먹으로 때려\",\n",
    "        \"주먹질 해\",\n",
    "        \"공격\",\n",
    "        \"때려\",\n",
    "        \"로봇 때려\"]\n",
    "Answer=[1,4,5,1,2,6,5,3,3,4,4,6,7,7,7,7,7,7,7]"
   ]
  },
  {
   "cell_type": "code",
   "execution_count": 3,
   "metadata": {},
   "outputs": [
    {
     "name": "stdout",
     "output_type": "stream",
     "text": [
      "['왼쪽 돌아 왼쪽 돌아 왼쪽 돌아 ', '오른쪽 걸어가 오른쪽 걸어가 오른쪽 걸어가 ', '앞 전진 앞 전진 앞 전진 ', '좌 회전 좌 회전 좌 회전 ', '우 회전 우 회전 우 회전 ', '뒤 가 뒤 가 뒤 가 ', '앞 가 앞 가 앞 가 ', '왼쪽 걸어 왼쪽 걸어 왼쪽 걸어 ', '왼쪽 가 왼쪽 가 왼쪽 가 ', '오른쪽 걸어 오른쪽 걸어 오른쪽 걸어 ', '오른쪽 가 오른쪽 가 오른쪽 가 ', '뒤 걸어 뒤 걸어 뒤 걸어 ', '공격 공격 공격 ', '펀치 펀치 펀치 ', '주먹 때려 주먹 때려 주먹 때려 ', '주먹질 해 주먹질 해 주먹질 해 ', '공격 공격 공격 ', '때려 때려 때려 ', '로봇 때려 로봇 때려 로봇 때려 '] [1, 4, 5, 1, 2, 6, 5, 3, 3, 4, 4, 6, 7, 7, 7, 7, 7, 7, 7]\n"
     ]
    }
   ],
   "source": [
    "x_text_list=[]\n",
    "y_text_list=[]\n",
    "for nowC,nowA in zip(Command,Answer):\n",
    "    tmp=''\n",
    "    arr=tw.pos(nowC)\n",
    "    for pos in arr:\n",
    "        #print(pos)\n",
    "        if pos[1] == 'Noun' or pos[1] == 'Verb':\n",
    "            tmp=tmp+pos[0]+' '\n",
    "    x_text_list.append(tmp+tmp+tmp)\n",
    "    y_text_list.append(nowA)\n",
    "print(x_text_list, y_text_list)\n"
   ]
  },
  {
   "cell_type": "code",
   "execution_count": 4,
   "metadata": {},
   "outputs": [
    {
     "name": "stderr",
     "output_type": "stream",
     "text": [
      "c:\\users\\dh kim\\appdata\\local\\programs\\python\\python35\\lib\\site-packages\\sklearn\\cross_validation.py:41: DeprecationWarning: This module was deprecated in version 0.18 in favor of the model_selection module into which all the refactored classes and functions are moved. Also note that the interface of the new CV iterators are different from that of this module. This module will be removed in 0.20.\n",
      "  \"This module will be removed in 0.20.\", DeprecationWarning)\n",
      "c:\\users\\dh kim\\appdata\\local\\programs\\python\\python35\\lib\\site-packages\\sklearn\\grid_search.py:42: DeprecationWarning: This module was deprecated in version 0.18 in favor of the model_selection module into which all the refactored classes and functions are moved. This module will be removed in 0.20.\n",
      "  DeprecationWarning)\n",
      "Using TensorFlow backend.\n",
      "c:\\users\\dh kim\\appdata\\local\\programs\\python\\python35\\lib\\site-packages\\gensim\\utils.py:862: UserWarning: detected Windows; aliasing chunkize to chunkize_serial\n",
      "  warnings.warn(\"detected Windows; aliasing chunkize to chunkize_serial\")\n"
     ]
    }
   ],
   "source": [
    "from sklearn.model_selection import train_test_split\n",
    "import re\n",
    "import sys\n",
    "from sklearn.externals import  joblib\n",
    "from sklearn.grid_search import GridSearchCV\n",
    "from sklearn.svm import  LinearSVC\n",
    "from sklearn.linear_model import LogisticRegression\n",
    "from sklearn.feature_extraction.text import  TfidfVectorizer,CountVectorizer\n",
    "import os\n",
    "import numpy as np\n",
    "import string\n",
    "from keras import backend\n",
    "from keras.layers import Dense, Input, Lambda, LSTM, TimeDistributed\n",
    "from keras.layers.merge import concatenate\n",
    "from keras.layers.embeddings import Embedding\n",
    "from keras.models import Model\n",
    "from gensim.models.keyedvectors import KeyedVectors\n",
    "import json\n",
    "import nltk\n",
    "vectorizer = CountVectorizer()"
   ]
  },
  {
   "cell_type": "code",
   "execution_count": 5,
   "metadata": {},
   "outputs": [
    {
     "name": "stdout",
     "output_type": "stream",
     "text": [
      "['왼쪽 돌아 왼쪽 돌아 왼쪽 돌아 ', '오른쪽 걸어가 오른쪽 걸어가 오른쪽 걸어가 ', '앞 전진 앞 전진 앞 전진 ', '좌 회전 좌 회전 좌 회전 ', '우 회전 우 회전 우 회전 ', '뒤 가 뒤 가 뒤 가 ', '앞 가 앞 가 앞 가 ', '왼쪽 걸어 왼쪽 걸어 왼쪽 걸어 ', '왼쪽 가 왼쪽 가 왼쪽 가 ', '오른쪽 걸어 오른쪽 걸어 오른쪽 걸어 ', '오른쪽 가 오른쪽 가 오른쪽 가 ', '뒤 걸어 뒤 걸어 뒤 걸어 ', '공격 공격 공격 ', '펀치 펀치 펀치 ', '주먹 때려 주먹 때려 주먹 때려 ', '주먹질 해 주먹질 해 주먹질 해 ', '공격 공격 공격 ', '때려 때려 때려 ', '로봇 때려 로봇 때려 로봇 때려 ']\n"
     ]
    },
    {
     "data": {
      "text/plain": [
       "<19x13 sparse matrix of type '<class 'numpy.int64'>'\n",
       "\twith 23 stored elements in Compressed Sparse Row format>"
      ]
     },
     "execution_count": 5,
     "metadata": {},
     "output_type": "execute_result"
    }
   ],
   "source": [
    "svc_param = np.logspace(-2,1,50)\n",
    "#print(svc_param)\n",
    "gsvc = GridSearchCV(LinearSVC(), param_grid= {'C': svc_param}, cv = 3, n_jobs = 4)\n",
    "print(x_text_list)\n",
    "vectorizer.fit_transform(x_text_list)\n",
    "#vectorizer.transform(map(lambda i : i[1],nouns_list)), y_list\n",
    "#vectorizer.fit_transform(map(lambda i : i[1],x_text_list))\n",
    "#print(svc_param)\n",
    "#print(gsvc)"
   ]
  },
  {
   "cell_type": "code",
   "execution_count": 6,
   "metadata": {},
   "outputs": [
    {
     "name": "stderr",
     "output_type": "stream",
     "text": [
      "c:\\users\\dh kim\\appdata\\local\\programs\\python\\python35\\lib\\site-packages\\sklearn\\cross_validation.py:553: Warning: The least populated class in y has only 1 members, which is too few. The minimum number of labels for any class cannot be less than n_folds=3.\n",
      "  % (min_labels, self.n_folds)), Warning)\n"
     ]
    },
    {
     "data": {
      "text/plain": [
       "GridSearchCV(cv=3, error_score='raise',\n",
       "       estimator=LinearSVC(C=1.0, class_weight=None, dual=True, fit_intercept=True,\n",
       "     intercept_scaling=1, loss='squared_hinge', max_iter=1000,\n",
       "     multi_class='ovr', penalty='l2', random_state=None, tol=0.0001,\n",
       "     verbose=0),\n",
       "       fit_params={}, iid=True, n_jobs=4,\n",
       "       param_grid={'C': array([  0.01   ,   0.01151,   0.01326,   0.01526,   0.01758,   0.02024,\n",
       "         0.0233 ,   0.02683,   0.03089,   0.03556,   0.04095,   0.04715,\n",
       "         0.05429,   0.06251,   0.07197,   0.08286,   0.09541,   0.10985,\n",
       "         0.12649,   0.14563,   0.16768,   0.19307,   0.2223 ,   ...      3.72759,   4.29193,   4.94171,   5.68987,   6.55129,   7.54312,\n",
       "         8.68511,  10.     ])},\n",
       "       pre_dispatch='2*n_jobs', refit=True, scoring=None, verbose=0)"
      ]
     },
     "execution_count": 6,
     "metadata": {},
     "output_type": "execute_result"
    }
   ],
   "source": [
    "gsvc.fit(vectorizer.transform(x_text_list), y_text_list)"
   ]
  },
  {
   "cell_type": "code",
   "execution_count": 7,
   "metadata": {},
   "outputs": [
    {
     "name": "stdout",
     "output_type": "stream",
     "text": [
      "0.631578947368421 {'C': 0.011513953993264475}\n"
     ]
    }
   ],
   "source": [
    "print(gsvc.best_score_, gsvc.best_params_)"
   ]
  },
  {
   "cell_type": "markdown",
   "metadata": {},
   "source": [
    "# 자연어 인식"
   ]
  },
  {
   "cell_type": "code",
   "execution_count": 8,
   "metadata": {},
   "outputs": [
    {
     "name": "stdout",
     "output_type": "stream",
     "text": [
      "DEVICE: Microsoft »ç¿îµå ¸ÅÆÛ - Input  INDEX:  0  RATE:  44100 \n",
      "DEVICE: ¸¶ÀÌÅ© ¹è¿­(Realtek High Defini  INDEX:  1  RATE:  44100 \n",
      "DEVICE: Microsoft »ç¿îµå ¸ÅÆÛ - Output  INDEX:  2  RATE:  44100 \n",
      "DEVICE: ½ºÇÇÄ¿(Realtek High Definition   INDEX:  3  RATE:  44100 \n"
     ]
    }
   ],
   "source": [
    "import pyaudio\n",
    "po = pyaudio.PyAudio()\n",
    "for index in range(po.get_device_count()): \n",
    "    desc = po.get_device_info_by_index(index)\n",
    "    #if desc[\"name\"] == \"record\":\n",
    "    print (\"DEVICE: %s  INDEX:  %s  RATE:  %s \" %  (desc[\"name\"], index,  int(desc[\"defaultSampleRate\"])))\n"
   ]
  },
  {
   "cell_type": "code",
   "execution_count": 10,
   "metadata": {},
   "outputs": [
    {
     "name": "stdout",
     "output_type": "stream",
     "text": [
      "Start to record the audio.\n",
      "Recording is finished.\n"
     ]
    }
   ],
   "source": [
    "import pyaudio\n",
    "import wave\n",
    "\n",
    "CHUNK = 1024\n",
    "FORMAT = pyaudio.paInt16\n",
    "CHANNELS = 1\n",
    "RATE = 16000\n",
    "RECORD_SECONDS = 5\n",
    "WAVE_OUTPUT_FILENAME = \"output.wav\"\n",
    "\n",
    "p = pyaudio.PyAudio()\n",
    "\n",
    "stream = p.open(format=FORMAT,\n",
    "                channels=CHANNELS,\n",
    "                rate=RATE,\n",
    "                input=True,\n",
    "                frames_per_buffer=CHUNK)\n",
    "\n",
    "print(\"Start to record the audio.\")\n",
    "\n",
    "frames = []\n",
    "\n",
    "for i in range(0, int(RATE / CHUNK * RECORD_SECONDS)):\n",
    "    data = stream.read(CHUNK)\n",
    "    frames.append(data)\n",
    "\n",
    "print(\"Recording is finished.\")\n",
    "\n",
    "stream.stop_stream()\n",
    "stream.close()\n",
    "p.terminate()\n",
    "\n",
    "wf = wave.open(WAVE_OUTPUT_FILENAME, 'wb')\n",
    "wf.setnchannels(CHANNELS)\n",
    "wf.setsampwidth(p.get_sample_size(FORMAT))\n",
    "wf.setframerate(RATE)\n",
    "wf.writeframes(b''.join(frames))\n",
    "wf.close()"
   ]
  },
  {
   "cell_type": "code",
   "execution_count": 11,
   "metadata": {},
   "outputs": [
    {
     "name": "stdout",
     "output_type": "stream",
     "text": [
      "[responseCode] 200\n",
      "[responBody]\n"
     ]
    }
   ],
   "source": [
    "import urllib3\n",
    "import json\n",
    "import base64\n",
    "openApiURL = \"http://aiopen.etri.re.kr:8000/WiseASR/Recognition\"\n",
    "accessKey = \"\"\n",
    "audioFilePath = \"output.wav\"\n",
    "languageCode = \"korean\"\n",
    " \n",
    "file = open(audioFilePath, \"rb\")\n",
    "audioContents = base64.b64encode(file.read()).decode(\"utf8\")\n",
    "file.close()\n",
    " \n",
    "requestJson = {\n",
    "    \"access_key\": accessKey,\n",
    "    \"argument\": {\n",
    "        \"language_code\": languageCode,\n",
    "        \"audio\": audioContents\n",
    "    }\n",
    "}\n",
    " \n",
    "http = urllib3.PoolManager()\n",
    "response = http.request(\n",
    "    \"POST\",\n",
    "    openApiURL,\n",
    "    headers={\"Content-Type\": \"application/json; charset=UTF-8\"},\n",
    "    body=json.dumps(requestJson)\n",
    ")\n",
    " \n",
    "print(\"[responseCode] \" + str(response.status))\n",
    "print(\"[responBody]\")"
   ]
  },
  {
   "cell_type": "code",
   "execution_count": 12,
   "metadata": {},
   "outputs": [
    {
     "name": "stdout",
     "output_type": "stream",
     "text": [
      "심교를 때려\n"
     ]
    }
   ],
   "source": [
    "jsonData=json.loads(response.data.decode('utf-8'))\n",
    "print(jsonData['return_object']['recognized'])"
   ]
  },
  {
   "cell_type": "code",
   "execution_count": 13,
   "metadata": {},
   "outputs": [],
   "source": [
    "resultT = []\n",
    "resultT.append(jsonData['return_object']['recognized'])"
   ]
  },
  {
   "cell_type": "code",
   "execution_count": 14,
   "metadata": {},
   "outputs": [],
   "source": [
    "result = gsvc.predict(vectorizer.transform(resultT))"
   ]
  },
  {
   "cell_type": "code",
   "execution_count": 15,
   "metadata": {},
   "outputs": [
    {
     "name": "stdout",
     "output_type": "stream",
     "text": [
      "[7]\n"
     ]
    }
   ],
   "source": [
    "print(result)"
   ]
  },
  {
   "cell_type": "markdown",
   "metadata": {},
   "source": [
    "# 머신러닝 테스트 코드"
   ]
  },
  {
   "cell_type": "code",
   "execution_count": null,
   "metadata": {},
   "outputs": [],
   "source": [
    "testW=['앞으로 가자','뒤로 가봐','왼쪽으로 걸어','왼쪽으로 회전','좌 회전','오른쪽으로 걸어', '오른쪽으로 회전']"
   ]
  },
  {
   "cell_type": "code",
   "execution_count": null,
   "metadata": {},
   "outputs": [],
   "source": [
    "test=[]\n",
    "for nowT in testW:\n",
    "    tmp=''\n",
    "    arr=tw.pos(nowT)\n",
    "    for pos in arr:\n",
    "        print(pos)\n",
    "        if pos[1] == 'Noun' or pos[1] == 'Verb':\n",
    "            tmp=tmp+pos[0]+' '\n",
    "    test.append(tmp+tmp+tmp)\n",
    "print(test)"
   ]
  },
  {
   "cell_type": "code",
   "execution_count": null,
   "metadata": {},
   "outputs": [],
   "source": [
    "vectorizer.transform(test)"
   ]
  },
  {
   "cell_type": "code",
   "execution_count": null,
   "metadata": {},
   "outputs": [],
   "source": [
    "pred_list = gsvc.predict(vectorizer.transform(test))"
   ]
  },
  {
   "cell_type": "code",
   "execution_count": null,
   "metadata": {},
   "outputs": [],
   "source": [
    "print(pred_list)"
   ]
  },
  {
   "cell_type": "markdown",
   "metadata": {},
   "source": [
    "# 어휘 정보 분석"
   ]
  },
  {
   "cell_type": "code",
   "execution_count": null,
   "metadata": {},
   "outputs": [],
   "source": [
    "import urllib3\n",
    "import json\n",
    "\n",
    "openApiURL = \"http://aiopen.etri.re.kr:8000/WiseWWN/WordRel\"\n",
    "accessKey = \"\"\n",
    "firstWord = '돌아'\n",
    "secondWord = '회전하다'\n",
    " \n",
    "requestJson = {\n",
    "    \"access_key\": accessKey,\n",
    "    \"argument\": {\n",
    "        'first_word': firstWord,\n",
    "        'second_word': secondWord,\n",
    "    }\n",
    "}\n",
    " \n",
    "http = urllib3.PoolManager()\n",
    "response = http.request(\n",
    "    \"POST\",\n",
    "    openApiURL,\n",
    "    headers={\"Content-Type\": \"application/json; charset=UTF-8\"},\n",
    "    body=json.dumps(requestJson)\n",
    ")\n",
    " \n",
    "print(\"[responseCode] \" + str(response.status))\n",
    "print(\"[responBody]\")\n",
    "print(str(response.data,\"utf-8\"))"
   ]
  },
  {
   "cell_type": "code",
   "execution_count": null,
   "metadata": {},
   "outputs": [],
   "source": []
  }
 ],
 "metadata": {
  "kernelspec": {
   "display_name": "Python 3",
   "language": "python",
   "name": "python3"
  },
  "language_info": {
   "codemirror_mode": {
    "name": "ipython",
    "version": 3
   },
   "file_extension": ".py",
   "mimetype": "text/x-python",
   "name": "python",
   "nbconvert_exporter": "python",
   "pygments_lexer": "ipython3",
   "version": "3.5.2"
  }
 },
 "nbformat": 4,
 "nbformat_minor": 2
}
