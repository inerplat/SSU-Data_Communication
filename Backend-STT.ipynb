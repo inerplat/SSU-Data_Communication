{
 "cells": [
  {
   "cell_type": "markdown",
   "metadata": {},
   "source": [
    "# 자연어 인식"
   ]
  },
  {
   "cell_type": "code",
   "execution_count": 40,
   "metadata": {},
   "outputs": [
    {
     "name": "stdout",
     "output_type": "stream",
     "text": [
      "DEVICE: Microsoft »ç¿îµå ¸ÅÆÛ - Input  INDEX:  0  RATE:  44100 \n",
      "DEVICE: ¸¶ÀÌÅ© ¹è¿­(Realtek High Defini  INDEX:  1  RATE:  44100 \n",
      "DEVICE: Microsoft »ç¿îµå ¸ÅÆÛ - Output  INDEX:  2  RATE:  44100 \n",
      "DEVICE: ½ºÇÇÄ¿(Realtek High Definition   INDEX:  3  RATE:  44100 \n"
     ]
    }
   ],
   "source": [
    "from sklearn.model_selection import train_test_split\n",
    "import re\n",
    "import sys\n",
    "from sklearn.externals import  joblib\n",
    "from sklearn.grid_search import GridSearchCV\n",
    "from sklearn.svm import  LinearSVC\n",
    "from sklearn.linear_model import LogisticRegression\n",
    "from sklearn.feature_extraction.text import  TfidfVectorizer,CountVectorizer\n",
    "import os\n",
    "import numpy as np\n",
    "import string\n",
    "import json\n",
    "import nltk\n",
    "import pyaudio\n",
    "from konlpy.tag import *\n",
    "kkma=Kkma()\n",
    "tw=Twitter()\n",
    "po = pyaudio.PyAudio()\n",
    "for index in range(po.get_device_count()): \n",
    "    desc = po.get_device_info_by_index(index)\n",
    "    #if desc[\"name\"] == \"record\":\n",
    "    print (\"DEVICE: %s  INDEX:  %s  RATE:  %s \" %  (desc[\"name\"], index,  int(desc[\"defaultSampleRate\"])))\n"
   ]
  },
  {
   "cell_type": "code",
   "execution_count": 76,
   "metadata": {},
   "outputs": [
    {
     "name": "stdout",
     "output_type": "stream",
     "text": [
      "Start to record the audio.\n",
      "Recording is finished.\n"
     ]
    }
   ],
   "source": [
    "import pyaudio\n",
    "import wave\n",
    "\n",
    "CHUNK = 1024\n",
    "FORMAT = pyaudio.paInt16\n",
    "CHANNELS = 1\n",
    "RATE = 16000\n",
    "RECORD_SECONDS = 5\n",
    "WAVE_OUTPUT_FILENAME = \"output.wav\"\n",
    "\n",
    "p = pyaudio.PyAudio()\n",
    "\n",
    "stream = p.open(format=FORMAT,\n",
    "                channels=CHANNELS,\n",
    "                rate=RATE,\n",
    "                input=True,\n",
    "                frames_per_buffer=CHUNK)\n",
    "\n",
    "print(\"Start to record the audio.\")\n",
    "\n",
    "frames = []\n",
    "\n",
    "for i in range(0, int(RATE / CHUNK * RECORD_SECONDS)):\n",
    "    data = stream.read(CHUNK)\n",
    "    frames.append(data)\n",
    "\n",
    "print(\"Recording is finished.\")\n",
    "\n",
    "stream.stop_stream()\n",
    "stream.close()\n",
    "p.terminate()\n",
    "\n",
    "wf = wave.open(WAVE_OUTPUT_FILENAME, 'wb')\n",
    "wf.setnchannels(CHANNELS)\n",
    "wf.setsampwidth(p.get_sample_size(FORMAT))\n",
    "wf.setframerate(RATE)\n",
    "wf.writeframes(b''.join(frames))\n",
    "wf.close()"
   ]
  },
  {
   "cell_type": "code",
   "execution_count": 77,
   "metadata": {},
   "outputs": [
    {
     "name": "stdout",
     "output_type": "stream",
     "text": [
      "[responseCode] 200\n",
      "[responBody]\n"
     ]
    }
   ],
   "source": [
    "import urllib3\n",
    "import json\n",
    "import base64\n",
    "openApiURL = \"http://aiopen.etri.re.kr:8000/WiseASR/Recognition\"\n",
    "accessKey = \"32fc3812-32a4-471a-bab0-cab768305735\"\n",
    "audioFilePath = \"output.wav\"\n",
    "languageCode = \"korean\"\n",
    " \n",
    "file = open(audioFilePath, \"rb\")\n",
    "audioContents = base64.b64encode(file.read()).decode(\"utf8\")\n",
    "file.close()\n",
    " \n",
    "requestJson = {\n",
    "    \"access_key\": accessKey,\n",
    "    \"argument\": {\n",
    "        \"language_code\": languageCode,\n",
    "        \"audio\": audioContents\n",
    "    }\n",
    "}\n",
    " \n",
    "http = urllib3.PoolManager()\n",
    "response = http.request(\n",
    "    \"POST\",\n",
    "    openApiURL,\n",
    "    headers={\"Content-Type\": \"application/json; charset=UTF-8\"},\n",
    "    body=json.dumps(requestJson)\n",
    ")\n",
    " \n",
    "print(\"[responseCode] \" + str(response.status))\n",
    "print(\"[responBody]\")"
   ]
  },
  {
   "cell_type": "code",
   "execution_count": 85,
   "metadata": {},
   "outputs": [
    {
     "name": "stdout",
     "output_type": "stream",
     "text": [
      "오른쪽으로 돌아\n"
     ]
    }
   ],
   "source": [
    "jsonData=json.loads(response.data.decode('utf-8'))\n",
    "resultT=jsonData['return_object']['recognized']\n",
    "print(resultT)"
   ]
  },
  {
   "cell_type": "code",
   "execution_count": 80,
   "metadata": {},
   "outputs": [
    {
     "name": "stdout",
     "output_type": "stream",
     "text": [
      "['왼쪽 왼쪽 돌아 돋 ', '좌 좌 회전 회전 ', '좌 좌 돌아 돋 ', '왼쪽 왼쪽 회전 회전 ', '우 우로 회전 ', '우 우로 돌아 아 ', '오른쪽 오른쪽 회전 회전 ', '왼쪽 왼쪽 걸어 걷 ', '왼쪽 왼쪽 가 가 ', '왼쪽 왼쪽 전진 전진 ', '좌 좌 전진 전진 ', '오른쪽 오른쪽 걸어 걷 ', '오른쪽 오른쪽 가 가 ', '오른쪽 오른쪽 전진 전진 ', '우 우로 전진 ', '앞 앞 전진 전진 ', '앞 앞 가 가 ', '뒤 뒤 가 가 ', '뒤 뒤 걸어 걷 ', '공격 공격 ', '펀치 펀치 ', '주먹 주먹 때려 때리 ', '공격 공격 ', '때려 때리 ']\n"
     ]
    }
   ],
   "source": [
    "x_text_list=[]\n",
    "f = open(\"x_text_list.out\", 'r')\n",
    "lines=f.readlines()\n",
    "for line in lines:\n",
    "    x_text_list.append(line.strip('\\n'))\n",
    "print(x_text_list)"
   ]
  },
  {
   "cell_type": "code",
   "execution_count": 81,
   "metadata": {},
   "outputs": [
    {
     "data": {
      "text/plain": [
       "<24x12 sparse matrix of type '<class 'numpy.int64'>'\n",
       "\twith 35 stored elements in Compressed Sparse Row format>"
      ]
     },
     "execution_count": 81,
     "metadata": {},
     "output_type": "execute_result"
    }
   ],
   "source": [
    "gsvc=joblib.load('model.pkl')\n",
    "vectorizer = CountVectorizer()\n",
    "vectorizer.fit_transform(x_text_list)"
   ]
  },
  {
   "cell_type": "code",
   "execution_count": 82,
   "metadata": {},
   "outputs": [],
   "source": [
    "arr=tw.pos(resultT)\n",
    "arr2=kkma.pos(resultT)\n",
    "tmp=''\n",
    "for arr in arr:\n",
    "    if arr[1]=='Noun' or arr[1]=='Verb':\n",
    "        tmp=tmp+arr[0]+' '\n",
    "for arr2 in arr2:\n",
    "    if arr2[1][0]=='N' or arr2[1][0]=='V':\n",
    "        tmp=tmp+arr2[0]+' '\n",
    "predict=[]\n",
    "predict.append(tmp)"
   ]
  },
  {
   "cell_type": "code",
   "execution_count": 83,
   "metadata": {},
   "outputs": [],
   "source": [
    "Result = gsvc.predict(vectorizer.transform(predict))"
   ]
  },
  {
   "cell_type": "code",
   "execution_count": 84,
   "metadata": {},
   "outputs": [
    {
     "name": "stdout",
     "output_type": "stream",
     "text": [
      "[4]\n"
     ]
    }
   ],
   "source": [
    "print(Result)"
   ]
  },
  {
   "cell_type": "code",
   "execution_count": null,
   "metadata": {},
   "outputs": [],
   "source": []
  }
 ],
 "metadata": {
  "kernelspec": {
   "display_name": "Python 3",
   "language": "python",
   "name": "python3"
  },
  "language_info": {
   "codemirror_mode": {
    "name": "ipython",
    "version": 3
   },
   "file_extension": ".py",
   "mimetype": "text/x-python",
   "name": "python",
   "nbconvert_exporter": "python",
   "pygments_lexer": "ipython3",
   "version": "3.5.2"
  }
 },
 "nbformat": 4,
 "nbformat_minor": 2
}
