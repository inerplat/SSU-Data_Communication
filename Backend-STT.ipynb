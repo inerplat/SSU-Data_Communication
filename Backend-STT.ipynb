{
 "cells": [
  {
   "cell_type": "markdown",
   "metadata": {},
   "source": [
    "# 자연어 인식"
   ]
  },
  {
   "cell_type": "code",
   "execution_count": 32,
   "metadata": {},
   "outputs": [
    {
     "name": "stdout",
     "output_type": "stream",
     "text": [
      "DEVICE: Microsoft »ç¿îµå ¸ÅÆÛ - Input  INDEX:  0  RATE:  44100 \n",
      "DEVICE: ¸¶ÀÌÅ© ¹è¿­(Realtek High Defini  INDEX:  1  RATE:  44100 \n",
      "DEVICE: Microsoft »ç¿îµå ¸ÅÆÛ - Output  INDEX:  2  RATE:  44100 \n",
      "DEVICE: ½ºÇÇÄ¿(Realtek High Definition   INDEX:  3  RATE:  44100 \n"
     ]
    }
   ],
   "source": [
    "from sklearn.model_selection import train_test_split\n",
    "import re\n",
    "import sys\n",
    "from sklearn.externals import  joblib\n",
    "from sklearn.grid_search import GridSearchCV\n",
    "from sklearn.svm import  LinearSVC\n",
    "from sklearn.linear_model import LogisticRegression\n",
    "from sklearn.feature_extraction.text import  TfidfVectorizer,CountVectorizer\n",
    "import os\n",
    "import numpy as np\n",
    "import string\n",
    "import json\n",
    "import nltk\n",
    "import pyaudio\n",
    "from konlpy.tag import *\n",
    "kkma=Kkma()\n",
    "tw=Twitter()\n",
    "po = pyaudio.PyAudio()\n",
    "for index in range(po.get_device_count()): \n",
    "    desc = po.get_device_info_by_index(index)\n",
    "    #if desc[\"name\"] == \"record\":\n",
    "    print (\"DEVICE: %s  INDEX:  %s  RATE:  %s \" %  (desc[\"name\"], index,  int(desc[\"defaultSampleRate\"])))\n"
   ]
  },
  {
   "cell_type": "code",
   "execution_count": 5,
   "metadata": {},
   "outputs": [
    {
     "name": "stdout",
     "output_type": "stream",
     "text": [
      "Start to record the audio.\n",
      "Recording is finished.\n"
     ]
    }
   ],
   "source": [
    "import pyaudio\n",
    "import wave\n",
    "\n",
    "CHUNK = 1024\n",
    "FORMAT = pyaudio.paInt16\n",
    "CHANNELS = 1\n",
    "RATE = 16000\n",
    "RECORD_SECONDS = 5\n",
    "WAVE_OUTPUT_FILENAME = \"output.wav\"\n",
    "\n",
    "p = pyaudio.PyAudio()\n",
    "\n",
    "stream = p.open(format=FORMAT,\n",
    "                channels=CHANNELS,\n",
    "                rate=RATE,\n",
    "                input=True,\n",
    "                frames_per_buffer=CHUNK)\n",
    "\n",
    "print(\"Start to record the audio.\")\n",
    "\n",
    "frames = []\n",
    "\n",
    "for i in range(0, int(RATE / CHUNK * RECORD_SECONDS)):\n",
    "    data = stream.read(CHUNK)\n",
    "    frames.append(data)\n",
    "\n",
    "print(\"Recording is finished.\")\n",
    "\n",
    "stream.stop_stream()\n",
    "stream.close()\n",
    "p.terminate()\n",
    "\n",
    "wf = wave.open(WAVE_OUTPUT_FILENAME, 'wb')\n",
    "wf.setnchannels(CHANNELS)\n",
    "wf.setsampwidth(p.get_sample_size(FORMAT))\n",
    "wf.setframerate(RATE)\n",
    "wf.writeframes(b''.join(frames))\n",
    "wf.close()"
   ]
  },
  {
   "cell_type": "code",
   "execution_count": 6,
   "metadata": {},
   "outputs": [
    {
     "name": "stdout",
     "output_type": "stream",
     "text": [
      "[responseCode] 200\n",
      "[responBody]\n"
     ]
    }
   ],
   "source": [
    "import urllib3\n",
    "import json\n",
    "import base64\n",
    "openApiURL = \"http://aiopen.etri.re.kr:8000/WiseASR/Recognition\"\n",
    "accessKey = \"\"\n",
    "audioFilePath = \"output.wav\"\n",
    "languageCode = \"korean\"\n",
    " \n",
    "file = open(audioFilePath, \"rb\")\n",
    "audioContents = base64.b64encode(file.read()).decode(\"utf8\")\n",
    "file.close()\n",
    " \n",
    "requestJson = {\n",
    "    \"access_key\": accessKey,\n",
    "    \"argument\": {\n",
    "        \"language_code\": languageCode,\n",
    "        \"audio\": audioContents\n",
    "    }\n",
    "}\n",
    " \n",
    "http = urllib3.PoolManager()\n",
    "response = http.request(\n",
    "    \"POST\",\n",
    "    openApiURL,\n",
    "    headers={\"Content-Type\": \"application/json; charset=UTF-8\"},\n",
    "    body=json.dumps(requestJson)\n",
    ")\n",
    " \n",
    "print(\"[responseCode] \" + str(response.status))\n",
    "print(\"[responBody]\")"
   ]
  },
  {
   "cell_type": "code",
   "execution_count": 52,
   "metadata": {},
   "outputs": [
    {
     "name": "stdout",
     "output_type": "stream",
     "text": [
      "왼쪽으로 돌아\n"
     ]
    }
   ],
   "source": [
    "jsonData=json.loads(response.data.decode('utf-8'))\n",
    "print(jsonData['return_object']['recognized'])"
   ]
  },
  {
   "cell_type": "code",
   "execution_count": 53,
   "metadata": {},
   "outputs": [],
   "source": [
    "resultT=tw.pos(jsonData['return_object']['recognized'])"
   ]
  },
  {
   "cell_type": "code",
   "execution_count": 54,
   "metadata": {},
   "outputs": [],
   "source": [
    "import csv\n",
    "Command=[]\n",
    "Answer=[]\n",
    "f = open('command.csv', 'r', encoding='utf-8')\n",
    "rdr = csv.reader(f)\n",
    "next(rdr)\n",
    "for line in rdr:\n",
    "    Command.append(line[0])\n",
    "    Answer.append(int(line[1]))\n",
    "f.close()"
   ]
  },
  {
   "cell_type": "code",
   "execution_count": 55,
   "metadata": {},
   "outputs": [],
   "source": [
    "x_text_list=[]\n",
    "y_text_list=[]\n",
    "for nowC,nowA in zip(Command,Answer):\n",
    "    tmp=''\n",
    "    arr=tw.pos(nowC)\n",
    "    for pos in arr:\n",
    "        if pos[1] == 'Noun' or pos[1] == 'Verb':\n",
    "            tmp=tmp+pos[0]+' '\n",
    "    x_text_list.append(tmp+tmp+tmp)\n",
    "    y_text_list.append(nowA)\n",
    "tmp=''\n",
    "result=[]\n",
    "for pos in resultT:\n",
    "    if pos[1] == 'Noun' or pos[1] == 'Verb':\n",
    "            tmp=tmp+pos[0]+' '\n",
    "result.append(tmp)"
   ]
  },
  {
   "cell_type": "code",
   "execution_count": 56,
   "metadata": {},
   "outputs": [
    {
     "data": {
      "text/plain": [
       "<19x13 sparse matrix of type '<class 'numpy.int64'>'\n",
       "\twith 23 stored elements in Compressed Sparse Row format>"
      ]
     },
     "execution_count": 56,
     "metadata": {},
     "output_type": "execute_result"
    }
   ],
   "source": [
    "gsvc=joblib.load('model.pkl')\n",
    "vectorizer = CountVectorizer()\n",
    "vectorizer.fit_transform(x_text_list)"
   ]
  },
  {
   "cell_type": "code",
   "execution_count": 57,
   "metadata": {},
   "outputs": [],
   "source": [
    "Result = gsvc.predict(vectorizer.transform(result))"
   ]
  },
  {
   "cell_type": "code",
   "execution_count": 58,
   "metadata": {},
   "outputs": [
    {
     "name": "stdout",
     "output_type": "stream",
     "text": [
      "[1]\n"
     ]
    }
   ],
   "source": [
    "print(Result)"
   ]
  }
 ],
 "metadata": {
  "kernelspec": {
   "display_name": "Python 3",
   "language": "python",
   "name": "python3"
  },
  "language_info": {
   "codemirror_mode": {
    "name": "ipython",
    "version": 3
   },
   "file_extension": ".py",
   "mimetype": "text/x-python",
   "name": "python",
   "nbconvert_exporter": "python",
   "pygments_lexer": "ipython3",
   "version": "3.5.2"
  }
 },
 "nbformat": 4,
 "nbformat_minor": 2
}
