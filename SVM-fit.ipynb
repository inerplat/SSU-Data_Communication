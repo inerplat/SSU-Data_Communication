{
 "cells": [
  {
   "cell_type": "markdown",
   "metadata": {},
   "source": [
    "# 문장학습(GSCV를 이용한 SVM)"
   ]
  },
  {
   "cell_type": "code",
   "execution_count": 111,
   "metadata": {},
   "outputs": [],
   "source": [
    "from konlpy.tag import *\n",
    "kkma=Kkma()\n",
    "tw=Twitter()"
   ]
  },
  {
   "cell_type": "markdown",
   "metadata": {},
   "source": [
    "```\n",
    "1. 좌회전\n",
    "2. 우회전\n",
    "3. 좌걷기\n",
    "4. 우걷기\n",
    "5. 앞걷기\n",
    "6. 뒤걷기\n",
    "7. 공격\n",
    "```"
   ]
  },
  {
   "cell_type": "code",
   "execution_count": 38,
   "metadata": {},
   "outputs": [],
   "source": [
    "motionDict={1:'좌회전',2:'우회전',3:'좌걷기',4:'우걷기',5:'앞걷기',6:'뒤걷기',7:'공격'}"
   ]
  },
  {
   "cell_type": "code",
   "execution_count": 156,
   "metadata": {},
   "outputs": [],
   "source": [
    "import csv\n",
    "Command=[]\n",
    "Answer=[]\n",
    "f = open('command.csv', 'r', encoding='utf-8')\n",
    "rdr = csv.reader(f)\n",
    "next(rdr)\n",
    "for line in rdr:\n",
    "    Command.append(line[0])\n",
    "    Answer.append(int(line[1]))\n",
    "f.close()    "
   ]
  },
  {
   "cell_type": "code",
   "execution_count": 157,
   "metadata": {},
   "outputs": [
    {
     "name": "stdout",
     "output_type": "stream",
     "text": [
      "['왼쪽 왼쪽 돌아 돋 ', '좌 좌 회전 회전 ', '좌 좌 돌아 돋 ', '왼쪽 왼쪽 회전 회전 ', '우 우로 회전 ', '우 우로 돌아 아 ', '오른쪽 오른쪽 회전 회전 ', '왼쪽 왼쪽 걸어 걷 ', '왼쪽 왼쪽 가 가 ', '왼쪽 왼쪽 전진 전진 ', '좌 좌 전진 전진 ', '오른쪽 오른쪽 걸어 걷 ', '오른쪽 오른쪽 가 가 ', '오른쪽 오른쪽 전진 전진 ', '우 우로 전진 ', '앞 앞 전진 전진 ', '앞 앞 가 가 ', '뒤 뒤 가 가 ', '뒤 뒤 걸어 걷 ', '공격 공격 ', '펀치 펀치 ', '주먹 주먹 때려 때리 ', '공격 공격 ', '때려 때리 '] [1, 1, 1, 1, 2, 2, 2, 3, 3, 3, 3, 4, 4, 4, 4, 5, 5, 6, 6, 7, 7, 7, 7, 7]\n"
     ]
    }
   ],
   "source": [
    "x_text_list=[]\n",
    "y_text_list=[]\n",
    "for nowC,nowA in zip(Command,Answer):\n",
    "    tmp=''\n",
    "    arr=tw.pos(nowC)\n",
    "    arr2=kkma.pos(nowC)\n",
    "    for pos,pos2 in zip(arr,arr2):\n",
    "        #print(pos2)\n",
    "        if pos[1] == 'Noun' or pos[1] == 'Verb':\n",
    "            tmp=tmp+pos[0]+' '\n",
    "        if pos2[1][0] =='N' or pos[1][0] == 'V':\n",
    "            tmp=tmp+pos2[0]+' '\n",
    "    x_text_list.append(tmp)\n",
    "    y_text_list.append(nowA)\n",
    "print(x_text_list, y_text_list)\n",
    "\n",
    "f = open(\"x_text_list.out\", 'w')\n",
    "for now in x_text_list:\n",
    "    f.write(now)\n",
    "    f.write('\\n')\n",
    "f.close()\n"
   ]
  },
  {
   "cell_type": "code",
   "execution_count": 158,
   "metadata": {},
   "outputs": [],
   "source": [
    "from sklearn.model_selection import train_test_split\n",
    "import re\n",
    "import sys\n",
    "from sklearn.externals import  joblib\n",
    "from sklearn.grid_search import GridSearchCV\n",
    "from sklearn.svm import  LinearSVC\n",
    "from sklearn.linear_model import LogisticRegression\n",
    "from sklearn.feature_extraction.text import  TfidfVectorizer,CountVectorizer\n",
    "import os\n",
    "import numpy as np\n",
    "import string\n",
    "import json\n",
    "import nltk\n",
    "vectorizer = CountVectorizer()"
   ]
  },
  {
   "cell_type": "code",
   "execution_count": 159,
   "metadata": {},
   "outputs": [
    {
     "name": "stdout",
     "output_type": "stream",
     "text": [
      "['왼쪽 왼쪽 돌아 돋 ', '좌 좌 회전 회전 ', '좌 좌 돌아 돋 ', '왼쪽 왼쪽 회전 회전 ', '우 우로 회전 ', '우 우로 돌아 아 ', '오른쪽 오른쪽 회전 회전 ', '왼쪽 왼쪽 걸어 걷 ', '왼쪽 왼쪽 가 가 ', '왼쪽 왼쪽 전진 전진 ', '좌 좌 전진 전진 ', '오른쪽 오른쪽 걸어 걷 ', '오른쪽 오른쪽 가 가 ', '오른쪽 오른쪽 전진 전진 ', '우 우로 전진 ', '앞 앞 전진 전진 ', '앞 앞 가 가 ', '뒤 뒤 가 가 ', '뒤 뒤 걸어 걷 ', '공격 공격 ', '펀치 펀치 ', '주먹 주먹 때려 때리 ', '공격 공격 ', '때려 때리 ']\n"
     ]
    },
    {
     "data": {
      "text/plain": [
       "<24x12 sparse matrix of type '<class 'numpy.int64'>'\n",
       "\twith 35 stored elements in Compressed Sparse Row format>"
      ]
     },
     "execution_count": 159,
     "metadata": {},
     "output_type": "execute_result"
    }
   ],
   "source": [
    "svc_param = np.logspace(-2,0,1000)\n",
    "gsvc = GridSearchCV(LinearSVC(), param_grid= {'C': svc_param}, cv = 2, n_jobs = 4)\n",
    "print(x_text_list)\n",
    "vectorizer.fit_transform(x_text_list)"
   ]
  },
  {
   "cell_type": "code",
   "execution_count": 160,
   "metadata": {},
   "outputs": [
    {
     "data": {
      "text/plain": [
       "GridSearchCV(cv=2, error_score='raise',\n",
       "       estimator=LinearSVC(C=1.0, class_weight=None, dual=True, fit_intercept=True,\n",
       "     intercept_scaling=1, loss='squared_hinge', max_iter=1000,\n",
       "     multi_class='ovr', penalty='l2', random_state=None, tol=0.0001,\n",
       "     verbose=0),\n",
       "       fit_params={}, iid=True, n_jobs=4,\n",
       "       param_grid={'C': array([ 0.01   ,  0.01005, ...,  0.9954 ,  1.     ])},\n",
       "       pre_dispatch='2*n_jobs', refit=True, scoring=None, verbose=0)"
      ]
     },
     "execution_count": 160,
     "metadata": {},
     "output_type": "execute_result"
    }
   ],
   "source": [
    "gsvc.fit(vectorizer.transform(x_text_list), y_text_list)"
   ]
  },
  {
   "cell_type": "code",
   "execution_count": 161,
   "metadata": {},
   "outputs": [
    {
     "name": "stdout",
     "output_type": "stream",
     "text": [
      "0.5 {'C': 0.01}\n"
     ]
    }
   ],
   "source": [
    "print(gsvc.best_score_, gsvc.best_params_)"
   ]
  },
  {
   "cell_type": "code",
   "execution_count": 162,
   "metadata": {},
   "outputs": [
    {
     "data": {
      "text/plain": [
       "['model.pkl']"
      ]
     },
     "execution_count": 162,
     "metadata": {},
     "output_type": "execute_result"
    }
   ],
   "source": [
    "joblib.dump(gsvc, 'model.pkl')"
   ]
  },
  {
   "cell_type": "markdown",
   "metadata": {},
   "source": [
    "# 머신러닝 테스트 코드"
   ]
  },
  {
   "cell_type": "code",
   "execution_count": 192,
   "metadata": {},
   "outputs": [],
   "source": [
    "testW=['앞으로 가자','뒤로 가봐','왼쪽으로 걸어','왼쪽으로 회전','좌 회전','오른쪽으로 걸어', '오른쪽으로 회전','앞 때려','공격해','왼쪽 가즈아','오른쪽 가즈아','심규 때리고 싶다','빨리 앞으로 가라고','앞으로가라','왼쪽으로 돌지말고 오른쪽으로 가자','오른쪽으로 가지말고 왼쪽으로 돌아라','꽃길만 걷자'] "
   ]
  },
  {
   "cell_type": "code",
   "execution_count": 193,
   "metadata": {},
   "outputs": [
    {
     "name": "stdout",
     "output_type": "stream",
     "text": [
      "['앞 앞 가자 가자 ', '뒤 뒤 가봐 가보 ', '왼쪽 왼쪽 걸어 걷 ', '왼쪽 왼쪽 회전 회전 ', '좌 좌 회전 회전 ', '오른쪽 오른쪽 걸어 걷 ', '오른쪽 오른쪽 회전 회전 ', '앞 앞 때려 때리 ', '공격 공격 ', '왼쪽 왼쪽 가즈 가 ', '오른쪽 오른쪽 가즈 가 ', '심규 심규 때리 때리 싶다 싶 ', '앞 앞 가라 가라 ', '앞 앞 가라 가라 ', '왼쪽 왼쪽 돌지 돌 오른쪽 말 가자 오른쪽 ', '오른쪽 오른쪽 가지 가 왼쪽 말 돌아 왼쪽 ', '꽃길 꽃 길 걷자 ']\n"
     ]
    }
   ],
   "source": [
    "test=[]\n",
    "test2=[]\n",
    "for nowT in testW:\n",
    "    tmp=''\n",
    "    arr=tw.pos(nowT)\n",
    "    arr2=kkma.pos(nowT)\n",
    "    for pos,pos2 in zip(arr,arr2):\n",
    "        #print(pos)\n",
    "        if pos[1] == 'Noun' or pos[1] == 'Verb':\n",
    "            tmp=tmp+pos[0]+' '\n",
    "        if pos2[1][0] =='N' or pos2[1][0] == 'V':\n",
    "            tmp=tmp+pos2[0]+' '\n",
    "    test.append(tmp)\n",
    "print(test)"
   ]
  },
  {
   "cell_type": "code",
   "execution_count": 194,
   "metadata": {},
   "outputs": [
    {
     "data": {
      "text/plain": [
       "<17x12 sparse matrix of type '<class 'numpy.int64'>'\n",
       "\twith 20 stored elements in Compressed Sparse Row format>"
      ]
     },
     "execution_count": 194,
     "metadata": {},
     "output_type": "execute_result"
    }
   ],
   "source": [
    "vectorizer.transform(test)"
   ]
  },
  {
   "cell_type": "code",
   "execution_count": 195,
   "metadata": {},
   "outputs": [],
   "source": [
    "pred_list = gsvc.predict(vectorizer.transform(test))"
   ]
  },
  {
   "cell_type": "code",
   "execution_count": 196,
   "metadata": {},
   "outputs": [
    {
     "name": "stdout",
     "output_type": "stream",
     "text": [
      "[7 7 3 1 1 4 4 7 7 3 4 7 7 7 4 4 7]\n"
     ]
    }
   ],
   "source": [
    "print(pred_list)"
   ]
  },
  {
   "cell_type": "code",
   "execution_count": 197,
   "metadata": {},
   "outputs": [
    {
     "name": "stdout",
     "output_type": "stream",
     "text": [
      "예측 :  공격 \t 정답 :  앞으로 가자\n",
      "예측 :  공격 \t 정답 :  뒤로 가봐\n",
      "예측 :  좌걷기 \t 정답 :  왼쪽으로 걸어\n",
      "예측 :  좌회전 \t 정답 :  왼쪽으로 회전\n",
      "예측 :  좌회전 \t 정답 :  좌 회전\n",
      "예측 :  우걷기 \t 정답 :  오른쪽으로 걸어\n",
      "예측 :  우걷기 \t 정답 :  오른쪽으로 회전\n",
      "예측 :  공격 \t 정답 :  앞 때려\n",
      "예측 :  공격 \t 정답 :  공격해\n",
      "예측 :  좌걷기 \t 정답 :  왼쪽 가즈아\n",
      "예측 :  우걷기 \t 정답 :  오른쪽 가즈아\n",
      "예측 :  공격 \t 정답 :  심규 때리고 싶다\n",
      "예측 :  공격 \t 정답 :  빨리 앞으로 가라고\n",
      "예측 :  공격 \t 정답 :  앞으로가라\n",
      "예측 :  우걷기 \t 정답 :  왼쪽으로 돌지말고 오른쪽으로 가자\n",
      "예측 :  우걷기 \t 정답 :  오른쪽으로 가지말고 왼쪽으로 돌아라\n",
      "예측 :  공격 \t 정답 :  꽃길만 걷자\n"
     ]
    }
   ],
   "source": [
    "for now,now2 in zip(pred_list,testW):\n",
    "    print(\"예측 : \",motionDict[now],\"\\t 정답 : \",now2)"
   ]
  },
  {
   "cell_type": "code",
   "execution_count": null,
   "metadata": {},
   "outputs": [],
   "source": []
  },
  {
   "cell_type": "code",
   "execution_count": null,
   "metadata": {},
   "outputs": [],
   "source": []
  }
 ],
 "metadata": {
  "kernelspec": {
   "display_name": "Python 3",
   "language": "python",
   "name": "python3"
  },
  "language_info": {
   "codemirror_mode": {
    "name": "ipython",
    "version": 3
   },
   "file_extension": ".py",
   "mimetype": "text/x-python",
   "name": "python",
   "nbconvert_exporter": "python",
   "pygments_lexer": "ipython3",
   "version": "3.5.2"
  }
 },
 "nbformat": 4,
 "nbformat_minor": 2
}
