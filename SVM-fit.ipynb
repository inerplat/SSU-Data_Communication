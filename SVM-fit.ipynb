{
 "cells": [
  {
   "cell_type": "markdown",
   "metadata": {},
   "source": [
    "# 문장학습(GSCV를 이용한 SVM)"
   ]
  },
  {
   "cell_type": "code",
   "execution_count": 27,
   "metadata": {},
   "outputs": [],
   "source": [
    "from konlpy.tag import *\n",
    "kkma=Kkma()\n",
    "tw=Twitter()"
   ]
  },
  {
   "cell_type": "markdown",
   "metadata": {},
   "source": [
    "```\n",
    "1. 좌회전\n",
    "2. 우회전\n",
    "3. 좌걷기\n",
    "4. 우걷기\n",
    "5. 앞걷기\n",
    "6. 뒤걷기\n",
    "7. 공격\n",
    "```"
   ]
  },
  {
   "cell_type": "code",
   "execution_count": 28,
   "metadata": {},
   "outputs": [],
   "source": [
    "import csv\n",
    "Command=[]\n",
    "Answer=[]\n",
    "f = open('command.csv', 'r', encoding='utf-8')\n",
    "rdr = csv.reader(f)\n",
    "next(rdr)\n",
    "for line in rdr:\n",
    "    Command.append(line[0])\n",
    "    Answer.append(int(line[1]))\n",
    "f.close()    "
   ]
  },
  {
   "cell_type": "code",
   "execution_count": 29,
   "metadata": {},
   "outputs": [
    {
     "name": "stdout",
     "output_type": "stream",
     "text": [
      "['왼쪽 돌아 왼쪽 돌아 왼쪽 돌아 ', '오른쪽 걸어가 오른쪽 걸어가 오른쪽 걸어가 ', '앞 전진 앞 전진 앞 전진 ', '좌 회전 좌 회전 좌 회전 ', '우 회전 우 회전 우 회전 ', '뒤 가 뒤 가 뒤 가 ', '앞 가 앞 가 앞 가 ', '왼쪽 걸어 왼쪽 걸어 왼쪽 걸어 ', '왼쪽 가 왼쪽 가 왼쪽 가 ', '오른쪽 걸어 오른쪽 걸어 오른쪽 걸어 ', '오른쪽 가 오른쪽 가 오른쪽 가 ', '뒤 걸어 뒤 걸어 뒤 걸어 ', '공격 공격 공격 ', '펀치 펀치 펀치 ', '주먹 때려 주먹 때려 주먹 때려 ', '주먹질 해 주먹질 해 주먹질 해 ', '공격 공격 공격 ', '때려 때려 때려 ', '로봇 때려 로봇 때려 로봇 때려 '] [1, 4, 5, 1, 2, 6, 5, 3, 3, 4, 4, 6, 7, 7, 7, 7, 7, 7, 7]\n"
     ]
    }
   ],
   "source": [
    "x_text_list=[]\n",
    "y_text_list=[]\n",
    "for nowC,nowA in zip(Command,Answer):\n",
    "    tmp=''\n",
    "    arr=tw.pos(nowC)\n",
    "    for pos in arr:\n",
    "        #print(pos)\n",
    "        if pos[1] == 'Noun' or pos[1] == 'Verb':\n",
    "            tmp=tmp+pos[0]+' '\n",
    "    x_text_list.append(tmp+tmp+tmp)\n",
    "    y_text_list.append(nowA)\n",
    "print(x_text_list, y_text_list)\n"
   ]
  },
  {
   "cell_type": "code",
   "execution_count": 30,
   "metadata": {},
   "outputs": [],
   "source": [
    "from sklearn.model_selection import train_test_split\n",
    "import re\n",
    "import sys\n",
    "from sklearn.externals import  joblib\n",
    "from sklearn.grid_search import GridSearchCV\n",
    "from sklearn.svm import  LinearSVC\n",
    "from sklearn.linear_model import LogisticRegression\n",
    "from sklearn.feature_extraction.text import  TfidfVectorizer,CountVectorizer\n",
    "import os\n",
    "import numpy as np\n",
    "import string\n",
    "import json\n",
    "import nltk\n",
    "vectorizer = CountVectorizer()"
   ]
  },
  {
   "cell_type": "code",
   "execution_count": 31,
   "metadata": {},
   "outputs": [
    {
     "name": "stdout",
     "output_type": "stream",
     "text": [
      "['왼쪽 돌아 왼쪽 돌아 왼쪽 돌아 ', '오른쪽 걸어가 오른쪽 걸어가 오른쪽 걸어가 ', '앞 전진 앞 전진 앞 전진 ', '좌 회전 좌 회전 좌 회전 ', '우 회전 우 회전 우 회전 ', '뒤 가 뒤 가 뒤 가 ', '앞 가 앞 가 앞 가 ', '왼쪽 걸어 왼쪽 걸어 왼쪽 걸어 ', '왼쪽 가 왼쪽 가 왼쪽 가 ', '오른쪽 걸어 오른쪽 걸어 오른쪽 걸어 ', '오른쪽 가 오른쪽 가 오른쪽 가 ', '뒤 걸어 뒤 걸어 뒤 걸어 ', '공격 공격 공격 ', '펀치 펀치 펀치 ', '주먹 때려 주먹 때려 주먹 때려 ', '주먹질 해 주먹질 해 주먹질 해 ', '공격 공격 공격 ', '때려 때려 때려 ', '로봇 때려 로봇 때려 로봇 때려 ']\n"
     ]
    },
    {
     "data": {
      "text/plain": [
       "<19x13 sparse matrix of type '<class 'numpy.int64'>'\n",
       "\twith 23 stored elements in Compressed Sparse Row format>"
      ]
     },
     "execution_count": 31,
     "metadata": {},
     "output_type": "execute_result"
    }
   ],
   "source": [
    "svc_param = np.logspace(-2,0,100)\n",
    "gsvc = GridSearchCV(LinearSVC(), param_grid= {'C': svc_param}, cv = 3, n_jobs = 4)\n",
    "print(x_text_list)\n",
    "vectorizer.fit_transform(x_text_list)"
   ]
  },
  {
   "cell_type": "code",
   "execution_count": 32,
   "metadata": {},
   "outputs": [
    {
     "name": "stderr",
     "output_type": "stream",
     "text": [
      "c:\\users\\dh kim\\appdata\\local\\programs\\python\\python35\\lib\\site-packages\\sklearn\\cross_validation.py:553: Warning: The least populated class in y has only 1 members, which is too few. The minimum number of labels for any class cannot be less than n_folds=3.\n",
      "  % (min_labels, self.n_folds)), Warning)\n"
     ]
    },
    {
     "data": {
      "text/plain": [
       "GridSearchCV(cv=3, error_score='raise',\n",
       "       estimator=LinearSVC(C=1.0, class_weight=None, dual=True, fit_intercept=True,\n",
       "     intercept_scaling=1, loss='squared_hinge', max_iter=1000,\n",
       "     multi_class='ovr', penalty='l2', random_state=None, tol=0.0001,\n",
       "     verbose=0),\n",
       "       fit_params={}, iid=True, n_jobs=4,\n",
       "       param_grid={'C': array([ 0.01   ,  0.01048, ...,  0.95455,  1.     ])},\n",
       "       pre_dispatch='2*n_jobs', refit=True, scoring=None, verbose=0)"
      ]
     },
     "execution_count": 32,
     "metadata": {},
     "output_type": "execute_result"
    }
   ],
   "source": [
    "gsvc.fit(vectorizer.transform(x_text_list), y_text_list)"
   ]
  },
  {
   "cell_type": "code",
   "execution_count": 33,
   "metadata": {},
   "outputs": [
    {
     "name": "stdout",
     "output_type": "stream",
     "text": [
      "0.631578947368421 {'C': 0.01}\n"
     ]
    }
   ],
   "source": [
    "print(gsvc.best_score_, gsvc.best_params_)"
   ]
  },
  {
   "cell_type": "code",
   "execution_count": 34,
   "metadata": {},
   "outputs": [
    {
     "data": {
      "text/plain": [
       "['model.pkl']"
      ]
     },
     "execution_count": 34,
     "metadata": {},
     "output_type": "execute_result"
    }
   ],
   "source": [
    "joblib.dump(gsvc, 'model.pkl')"
   ]
  },
  {
   "cell_type": "markdown",
   "metadata": {},
   "source": [
    "# 머신러닝 테스트 코드"
   ]
  },
  {
   "cell_type": "code",
   "execution_count": 36,
   "metadata": {},
   "outputs": [],
   "source": [
    "testW=['앞으로 가자','뒤로 가봐','왼쪽으로 걸어','왼쪽으로 회전','좌 회전','오른쪽으로 걸어', '오른쪽으로 회전']"
   ]
  },
  {
   "cell_type": "code",
   "execution_count": 37,
   "metadata": {},
   "outputs": [
    {
     "name": "stdout",
     "output_type": "stream",
     "text": [
      "('앞', 'Noun')\n",
      "('으로', 'Josa')\n",
      "('가자', 'Verb')\n",
      "('뒤', 'Noun')\n",
      "('로', 'Josa')\n",
      "('가봐', 'Verb')\n",
      "('왼쪽', 'Noun')\n",
      "('으로', 'Josa')\n",
      "('걸어', 'Verb')\n",
      "('왼쪽', 'Noun')\n",
      "('으로', 'Josa')\n",
      "('회전', 'Noun')\n",
      "('좌', 'Noun')\n",
      "('회전', 'Noun')\n",
      "('오른쪽', 'Noun')\n",
      "('으로', 'Josa')\n",
      "('걸어', 'Verb')\n",
      "('오른쪽', 'Noun')\n",
      "('으로', 'Josa')\n",
      "('회전', 'Noun')\n",
      "['앞 가자 앞 가자 앞 가자 ', '뒤 가봐 뒤 가봐 뒤 가봐 ', '왼쪽 걸어 왼쪽 걸어 왼쪽 걸어 ', '왼쪽 회전 왼쪽 회전 왼쪽 회전 ', '좌 회전 좌 회전 좌 회전 ', '오른쪽 걸어 오른쪽 걸어 오른쪽 걸어 ', '오른쪽 회전 오른쪽 회전 오른쪽 회전 ']\n"
     ]
    }
   ],
   "source": [
    "test=[]\n",
    "for nowT in testW:\n",
    "    tmp=''\n",
    "    arr=tw.pos(nowT)\n",
    "    for pos in arr:\n",
    "        print(pos)\n",
    "        if pos[1] == 'Noun' or pos[1] == 'Verb':\n",
    "            tmp=tmp+pos[0]+' '\n",
    "    test.append(tmp+tmp+tmp)\n",
    "print(test)"
   ]
  },
  {
   "cell_type": "code",
   "execution_count": 38,
   "metadata": {},
   "outputs": [
    {
     "data": {
      "text/plain": [
       "<7x13 sparse matrix of type '<class 'numpy.int64'>'\n",
       "\twith 9 stored elements in Compressed Sparse Row format>"
      ]
     },
     "execution_count": 38,
     "metadata": {},
     "output_type": "execute_result"
    }
   ],
   "source": [
    "vectorizer.transform(test)"
   ]
  },
  {
   "cell_type": "code",
   "execution_count": 39,
   "metadata": {},
   "outputs": [],
   "source": [
    "pred_list = gsvc.predict(vectorizer.transform(test))"
   ]
  },
  {
   "cell_type": "code",
   "execution_count": 40,
   "metadata": {},
   "outputs": [
    {
     "name": "stdout",
     "output_type": "stream",
     "text": [
      "[7 7 3 1 1 4 4]\n"
     ]
    }
   ],
   "source": [
    "print(pred_list)"
   ]
  },
  {
   "cell_type": "code",
   "execution_count": null,
   "metadata": {},
   "outputs": [],
   "source": []
  }
 ],
 "metadata": {
  "kernelspec": {
   "display_name": "Python 3",
   "language": "python",
   "name": "python3"
  },
  "language_info": {
   "codemirror_mode": {
    "name": "ipython",
    "version": 3
   },
   "file_extension": ".py",
   "mimetype": "text/x-python",
   "name": "python",
   "nbconvert_exporter": "python",
   "pygments_lexer": "ipython3",
   "version": "3.5.2"
  }
 },
 "nbformat": 4,
 "nbformat_minor": 2
}
