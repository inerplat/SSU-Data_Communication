{
 "cells": [
  {
   "cell_type": "markdown",
   "metadata": {},
   "source": [
    "# 문장학습(GSCV를 이용한 SVM)"
   ]
  },
  {
   "cell_type": "code",
   "execution_count": null,
   "metadata": {},
   "outputs": [],
   "source": [
    "from konlpy.tag import *\n",
    "kkma=Kkma()\n",
    "tw=Twitter()"
   ]
  },
  {
   "cell_type": "code",
   "execution_count": null,
   "metadata": {},
   "outputs": [],
   "source": [
    "def ngram(command):\n",
    "    temp=command+' '\n",
    "    for i in range(1,4):\n",
    "        for j in range(len(command)-i+1):\n",
    "            temp=temp+command[j:j+i]+' '\n",
    "    return temp\n",
    "\n",
    "class textList:\n",
    "    def __init__(self):\n",
    "        self.command=[]\n",
    "        self.answer=[]\n",
    "    def append(self,text,text2):\n",
    "        self.command.append(text)\n",
    "        self.answer.append(int(text2))\n",
    "        \n",
    "    def nouns(self):\n",
    "        nouns_list=[]\n",
    "        for nowC, nowA in zip(self.command, self.answer):\n",
    "            tmp=''\n",
    "            arr=tw.pos(nowC)\n",
    "            arr2=kkma.pos(nowC)\n",
    "            for pos, pos2 in zip(arr, arr2):\n",
    "                if pos[1] == 'Noun' or pos[1] == 'Verb':\n",
    "                    tmp=tmp+ngram(pos[0]) + ' '\n",
    "                if pos2[1][0] =='N' or pos[1][0] == 'V':\n",
    "                    tmp=tmp+ngram(pos2[0])+' '\n",
    "            nouns_list.append((tmp, nowA))\n",
    "        return nouns_list"
   ]
  },
  {
   "cell_type": "markdown",
   "metadata": {},
   "source": [
    "```\n",
    "1. 좌회전\n",
    "2. 우회전\n",
    "3. 좌걷기\n",
    "4. 우걷기\n",
    "5. 앞걷기\n",
    "6. 뒤걷기\n",
    "7. 공격\n",
    "```"
   ]
  },
  {
   "cell_type": "code",
   "execution_count": null,
   "metadata": {},
   "outputs": [],
   "source": [
    "motionDict={1:'좌회전',2:'우회전',3:'좌걷기',4:'우걷기',5:'앞걷기',6:'뒤걷기',7:'공격'}"
   ]
  },
  {
   "cell_type": "code",
   "execution_count": null,
   "metadata": {},
   "outputs": [],
   "source": [
    "import csv\n",
    "train = textList()\n",
    "f = open('command.csv', 'r', encoding='utf-8')\n",
    "rdr = csv.reader(f)\n",
    "next(rdr)\n",
    "for line in rdr:\n",
    "    train.append(line[0], line[1])\n",
    "f.close()"
   ]
  },
  {
   "cell_type": "code",
   "execution_count": null,
   "metadata": {},
   "outputs": [],
   "source": [
    "f = open(\"x_text_list.out\", 'w')\n",
    "for now in train.nouns():\n",
    "    f.write(now[0])\n",
    "    f.write('\\n')\n",
    "f.close()"
   ]
  },
  {
   "cell_type": "code",
   "execution_count": null,
   "metadata": {},
   "outputs": [],
   "source": [
    "from sklearn.model_selection import train_test_split\n",
    "import re\n",
    "import sys\n",
    "from sklearn.externals import  joblib\n",
    "from sklearn.grid_search import GridSearchCV\n",
    "from sklearn.svm import  LinearSVC\n",
    "from sklearn.linear_model import LogisticRegression\n",
    "from sklearn.feature_extraction.text import  TfidfVectorizer,CountVectorizer\n",
    "import os\n",
    "import numpy as np\n",
    "import string\n",
    "import json\n",
    "import nltk\n",
    "vectorizer = CountVectorizer()"
   ]
  },
  {
   "cell_type": "code",
   "execution_count": null,
   "metadata": {},
   "outputs": [],
   "source": [
    "svc_param = np.logspace(-2,0,1000)\n",
    "gsvc = GridSearchCV(LinearSVC(), param_grid= {'C': svc_param}, cv = 2, n_jobs = 4)\n",
    "x_text_list = list(map(lambda i : i[0],train.nouns()))\n",
    "y_text_list = list(map(lambda j : j[1],train.nouns()))\n",
    "vectorizer.fit_transform(x_text_list)"
   ]
  },
  {
   "cell_type": "code",
   "execution_count": null,
   "metadata": {},
   "outputs": [],
   "source": [
    "gsvc.fit(vectorizer.transform(x_text_list), y_text_list)"
   ]
  },
  {
   "cell_type": "code",
   "execution_count": null,
   "metadata": {},
   "outputs": [],
   "source": [
    "print(gsvc.best_score_, gsvc.best_params_)"
   ]
  },
  {
   "cell_type": "code",
   "execution_count": null,
   "metadata": {},
   "outputs": [],
   "source": [
    "joblib.dump(gsvc, 'model.pkl')"
   ]
  },
  {
   "cell_type": "markdown",
   "metadata": {},
   "source": [
    "# 머신러닝 테스트 코드"
   ]
  },
  {
   "cell_type": "code",
   "execution_count": null,
   "metadata": {},
   "outputs": [],
   "source": [
    "testW=['앞으로 가자','뒤로 가봐','왼쪽으로 걸어','왼쪽으로 회전','좌 회전','오른쪽으로 걸어', '오른쪽으로 회전','앞 때려','공격해','왼쪽 가즈아','오른쪽 가즈아','빨리 앞으로 가라고','앞으로가라','왼쪽으로 돌지말고 오른쪽으로 가자','오른쪽으로 가지말고 왼쪽으로 돌아라','왼쪽으로 돌아','오른쪽으로 돌아'] "
   ]
  },
  {
   "cell_type": "code",
   "execution_count": null,
   "metadata": {},
   "outputs": [],
   "source": [
    "test=textList()\n",
    "print(test.nouns())\n",
    "#for nowT in testW:\n",
    "#    test.append(nowT,'0')\n",
    "    \n",
    "#print(test.nouns())\n",
    "for now in testW:\n",
    "    test.append(now,'0')\n",
    "print(test.nouns())"
   ]
  },
  {
   "cell_type": "code",
   "execution_count": null,
   "metadata": {},
   "outputs": [],
   "source": [
    "test_list = list(map(lambda i:i[0], test.nouns()))"
   ]
  },
  {
   "cell_type": "code",
   "execution_count": null,
   "metadata": {},
   "outputs": [],
   "source": [
    "pred_list = gsvc.predict(vectorizer.transform(test_list))"
   ]
  },
  {
   "cell_type": "code",
   "execution_count": null,
   "metadata": {},
   "outputs": [],
   "source": [
    "print(pred_list)"
   ]
  },
  {
   "cell_type": "code",
   "execution_count": null,
   "metadata": {},
   "outputs": [],
   "source": [
    "for now,now2 in zip(pred_list,testW):\n",
    "    print(\"예측 : \",motionDict[now],\"\\t 정답 : \",now2)"
   ]
  },
  {
   "cell_type": "code",
   "execution_count": null,
   "metadata": {},
   "outputs": [],
   "source": []
  }
 ],
 "metadata": {
  "kernelspec": {
   "display_name": "Python 3",
   "language": "python",
   "name": "python3"
  },
  "language_info": {
   "codemirror_mode": {
    "name": "ipython",
    "version": 3
   },
   "file_extension": ".py",
   "mimetype": "text/x-python",
   "name": "python",
   "nbconvert_exporter": "python",
   "pygments_lexer": "ipython3",
   "version": "3.5.2"
  }
 },
 "nbformat": 4,
 "nbformat_minor": 2
}
